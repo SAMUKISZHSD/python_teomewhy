{
 "cells": [
  {
   "cell_type": "markdown",
   "id": "ea828de6",
   "metadata": {},
   "source": [
    "Comparações Lógicas"
   ]
  },
  {
   "cell_type": "code",
   "execution_count": 1,
   "id": "55de8ca7",
   "metadata": {},
   "outputs": [
    {
     "name": "stdout",
     "output_type": "stream",
     "text": [
      "Comparações Lógicas\n",
      "1 > 2 False\n"
     ]
    }
   ],
   "source": [
    "print(\"Comparações Lógicas\")\n",
    "print(\"1 > 2\", 1 > 2)"
   ]
  },
  {
   "cell_type": "code",
   "execution_count": 4,
   "id": "df688f96",
   "metadata": {},
   "outputs": [
    {
     "name": "stdout",
     "output_type": "stream",
     "text": [
      "2 >= 2 True\n"
     ]
    }
   ],
   "source": [
    "print(\"2 >= 2\", 2 >= 2)"
   ]
  },
  {
   "cell_type": "code",
   "execution_count": 5,
   "id": "ee53bd33",
   "metadata": {},
   "outputs": [
    {
     "name": "stdout",
     "output_type": "stream",
     "text": [
      "Samuel == Samuel True\n"
     ]
    }
   ],
   "source": [
    "print(\"Samuel == Samuel\", \"Samuel\" == \"Samuel\")"
   ]
  }
 ],
 "metadata": {
  "kernelspec": {
   "display_name": "base",
   "language": "python",
   "name": "python3"
  },
  "language_info": {
   "codemirror_mode": {
    "name": "ipython",
    "version": 3
   },
   "file_extension": ".py",
   "mimetype": "text/x-python",
   "name": "python",
   "nbconvert_exporter": "python",
   "pygments_lexer": "ipython3",
   "version": "3.13.5"
  }
 },
 "nbformat": 4,
 "nbformat_minor": 5
}
