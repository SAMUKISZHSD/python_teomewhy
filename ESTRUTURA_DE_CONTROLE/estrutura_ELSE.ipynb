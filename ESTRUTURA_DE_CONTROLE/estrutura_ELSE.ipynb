{
 "cells": [
  {
   "cell_type": "markdown",
   "id": "7d7eabc7",
   "metadata": {},
   "source": [
    "`if` e `else` em Python\n",
    "\n",
    "`if`: executa um bloco de código **se** a condição for verdadeira.\n",
    "`else`: executa um bloco de código **caso contrário** (se a condição do `if` for falsa).\n",
    "\n",
    "Sintaxe:\n",
    "\n",
    "```python\n",
    "if condição:\n",
    "    # código se a condição for verdadeira\n",
    "else:\n",
    "    # código se a condição for falsa\n",
    "```\n",
    "\n",
    "Exemplo:\n",
    "\n",
    "```python\n",
    "idade = 18\n",
    "\n",
    "if idade >= 18:\n",
    "    print(\"Você é maior de idade\")\n",
    "else:\n",
    "    print(\"Você é menor de idade\")\n",
    "```\n"
   ]
  },
  {
   "cell_type": "code",
   "execution_count": 4,
   "id": "42b87a55",
   "metadata": {},
   "outputs": [],
   "source": [
    "idade = int(15)"
   ]
  },
  {
   "cell_type": "code",
   "execution_count": 5,
   "id": "bcd08136",
   "metadata": {},
   "outputs": [
    {
     "name": "stdout",
     "output_type": "stream",
     "text": [
      "Você não pode tomar uma skol.\n"
     ]
    }
   ],
   "source": [
    "if idade >= int(18):\n",
    "    print(\"Você pode tomar uma skol.\")\n",
    "else:\n",
    "    print(\"Você não pode tomar uma skol.\")\n"
   ]
  }
 ],
 "metadata": {
  "kernelspec": {
   "display_name": "base",
   "language": "python",
   "name": "python3"
  },
  "language_info": {
   "codemirror_mode": {
    "name": "ipython",
    "version": 3
   },
   "file_extension": ".py",
   "mimetype": "text/x-python",
   "name": "python",
   "nbconvert_exporter": "python",
   "pygments_lexer": "ipython3",
   "version": "3.13.5"
  }
 },
 "nbformat": 4,
 "nbformat_minor": 5
}
