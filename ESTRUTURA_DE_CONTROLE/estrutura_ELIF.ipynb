{
 "cells": [
  {
   "cell_type": "markdown",
   "id": "68e40661",
   "metadata": {},
   "source": [
    "Está podendo beber uma Skol?"
   ]
  },
  {
   "cell_type": "code",
   "execution_count": 16,
   "id": "42b87a55",
   "metadata": {},
   "outputs": [],
   "source": [
    "idade = input(\"Digite a sua idade: \")\n",
    "idade = int(idade) "
   ]
  },
  {
   "cell_type": "markdown",
   "id": "9fa8df84",
   "metadata": {},
   "source": [
    "Código espaguete (não é o ideal):"
   ]
  },
  {
   "cell_type": "code",
   "execution_count": 17,
   "id": "22eb81b0",
   "metadata": {},
   "outputs": [
    {
     "name": "stdout",
     "output_type": "stream",
     "text": [
      "Você não pode tomar uma skol.\n"
     ]
    }
   ],
   "source": [
    "if idade >= 70:\n",
    "    print(\"Cuidado com a bebida.\")\n",
    "    print(\"Consulte o seu médico.\")\n",
    "else:\n",
    "    if idade >= int(18):\n",
    "       print(\"Você pode tomar uma skol.\")\n",
    "    else:\n",
    "       print(\"Você não pode tomar uma skol.\")\n"
   ]
  },
  {
   "cell_type": "markdown",
   "id": "60ef1fae",
   "metadata": {},
   "source": [
    "Usando ELIF:"
   ]
  },
  {
   "cell_type": "code",
   "execution_count": 18,
   "id": "758b58e5",
   "metadata": {},
   "outputs": [
    {
     "name": "stdout",
     "output_type": "stream",
     "text": [
      "Quando você completar 18 anos, você poderá tomar uma skol.\n"
     ]
    }
   ],
   "source": [
    "if idade >= 70:\n",
    "    print(\"Cuidado com a bebida.\")\n",
    "    print(\"Consulte o seu médico.\")\n",
    "\n",
    "elif idade >= int(18):\n",
    "    print(\"Você pode tomar uma skol.\")\n",
    "\n",
    "elif idade == int(17):\n",
    "    print(\"Quando você completar 18 anos, você poderá tomar uma skol.\")\n",
    "\n",
    "else:\n",
    "    print(\"Você não pode tomar uma skol.\")"
   ]
  }
 ],
 "metadata": {
  "kernelspec": {
   "display_name": "base",
   "language": "python",
   "name": "python3"
  },
  "language_info": {
   "codemirror_mode": {
    "name": "ipython",
    "version": 3
   },
   "file_extension": ".py",
   "mimetype": "text/x-python",
   "name": "python",
   "nbconvert_exporter": "python",
   "pygments_lexer": "ipython3",
   "version": "3.13.5"
  }
 },
 "nbformat": 4,
 "nbformat_minor": 5
}
