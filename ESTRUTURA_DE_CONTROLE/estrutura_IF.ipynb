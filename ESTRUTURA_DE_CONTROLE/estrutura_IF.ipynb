{
 "cells": [
  {
   "cell_type": "markdown",
   "id": "7d7eabc7",
   "metadata": {},
   "source": [
    "Estrutura `if` em Python\n",
    "\n",
    "A instrução `if` é usada para executar um bloco de código **apenas se uma condição for verdadeira**.\n",
    "\n",
    "Sintaxe básica:\n",
    "\n",
    "```python\n",
    "if condição:\n",
    "    # código executado se a condição for verdadeira\n",
    "```\n"
   ]
  },
  {
   "cell_type": "code",
   "execution_count": 16,
   "id": "42b87a55",
   "metadata": {},
   "outputs": [],
   "source": [
    "idade = int(18)"
   ]
  },
  {
   "cell_type": "code",
   "execution_count": 17,
   "id": "bcd08136",
   "metadata": {},
   "outputs": [
    {
     "name": "stdout",
     "output_type": "stream",
     "text": [
      "Você pode tomar uma skol.\n"
     ]
    }
   ],
   "source": [
    "if idade >= int(18):\n",
    "    print(\"Você pode tomar uma skol.\")\n"
   ]
  },
  {
   "cell_type": "code",
   "execution_count": 18,
   "id": "0184c8c1",
   "metadata": {},
   "outputs": [],
   "source": [
    "if idade <= int(17):\n",
    "    print(\"Você não pode tomar uma skol.\")"
   ]
  }
 ],
 "metadata": {
  "kernelspec": {
   "display_name": "base",
   "language": "python",
   "name": "python3"
  },
  "language_info": {
   "codemirror_mode": {
    "name": "ipython",
    "version": 3
   },
   "file_extension": ".py",
   "mimetype": "text/x-python",
   "name": "python",
   "nbconvert_exporter": "python",
   "pygments_lexer": "ipython3",
   "version": "3.13.5"
  }
 },
 "nbformat": 4,
 "nbformat_minor": 5
}
