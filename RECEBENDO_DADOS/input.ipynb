{
 "cells": [
  {
   "cell_type": "code",
   "execution_count": 1,
   "id": "98429746",
   "metadata": {},
   "outputs": [
    {
     "name": "stdout",
     "output_type": "stream",
     "text": [
      "Input em Python\n"
     ]
    }
   ],
   "source": [
    "print(\"Input em Python\")"
   ]
  },
  {
   "cell_type": "code",
   "execution_count": 6,
   "id": "6eec298e",
   "metadata": {},
   "outputs": [
    {
     "name": "stdout",
     "output_type": "stream",
     "text": [
      "Samuel Allan\n"
     ]
    }
   ],
   "source": [
    "nome = input(\"Digite seu nome: \")\n",
    "print(nome)"
   ]
  },
  {
   "cell_type": "code",
   "execution_count": 7,
   "id": "aef9b0f8",
   "metadata": {},
   "outputs": [
    {
     "name": "stdout",
     "output_type": "stream",
     "text": [
      "Prazer! Samuel Allan seja bem-vindo(a) ao arquivo evidenciando o uso do input.\n"
     ]
    }
   ],
   "source": [
    "print(\"Prazer!\", nome, \"seja bem-vindo(a) ao arquivo evidenciando o uso do input.\")"
   ]
  }
 ],
 "metadata": {
  "kernelspec": {
   "display_name": "base",
   "language": "python",
   "name": "python3"
  },
  "language_info": {
   "codemirror_mode": {
    "name": "ipython",
    "version": 3
   },
   "file_extension": ".py",
   "mimetype": "text/x-python",
   "name": "python",
   "nbconvert_exporter": "python",
   "pygments_lexer": "ipython3",
   "version": "3.13.5"
  }
 },
 "nbformat": 4,
 "nbformat_minor": 5
}
