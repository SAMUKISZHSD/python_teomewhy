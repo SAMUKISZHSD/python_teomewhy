{
 "cells": [
  {
   "cell_type": "code",
   "execution_count": 1,
   "id": "54b7413c",
   "metadata": {},
   "outputs": [],
   "source": [
    "numero = input(\"Digite um número para mutiplicar pelo seu dobro: \")"
   ]
  },
  {
   "cell_type": "code",
   "execution_count": 2,
   "id": "42b41625",
   "metadata": {},
   "outputs": [],
   "source": [
    "dobro = int(numero) * 2"
   ]
  },
  {
   "cell_type": "code",
   "execution_count": 3,
   "id": "6bb8471f",
   "metadata": {},
   "outputs": [
    {
     "name": "stdout",
     "output_type": "stream",
     "text": [
      "O dobro de 10 é 20\n"
     ]
    }
   ],
   "source": [
    "print(\"O dobro de\", numero, \"é\", dobro)"
   ]
  }
 ],
 "metadata": {
  "kernelspec": {
   "display_name": "base",
   "language": "python",
   "name": "python3"
  },
  "language_info": {
   "codemirror_mode": {
    "name": "ipython",
    "version": 3
   },
   "file_extension": ".py",
   "mimetype": "text/x-python",
   "name": "python",
   "nbconvert_exporter": "python",
   "pygments_lexer": "ipython3",
   "version": "3.13.5"
  }
 },
 "nbformat": 4,
 "nbformat_minor": 5
}
