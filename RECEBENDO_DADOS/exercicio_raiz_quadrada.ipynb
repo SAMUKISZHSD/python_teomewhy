{
 "cells": [
  {
   "cell_type": "markdown",
   "id": "36548d71",
   "metadata": {},
   "source": [
    "Faça um programa que receba um número inteiro e calcule sua raiz quadrada e exiba o seu resultado"
   ]
  },
  {
   "cell_type": "code",
   "execution_count": 1,
   "id": "98b3c6a7",
   "metadata": {},
   "outputs": [],
   "source": [
    "home = input(\"Calculadora de Raiz Quadrada, clique 'Enter' para continuar: \")"
   ]
  },
  {
   "cell_type": "code",
   "execution_count": 2,
   "id": "607c4a04",
   "metadata": {},
   "outputs": [],
   "source": [
    "numero = input(\"Digite um número inteiro para calcular sua raiz quadrada: \")\n",
    "raiz_quadrada = float(numero) ** 0.5"
   ]
  },
  {
   "cell_type": "code",
   "execution_count": 3,
   "id": "2b584cdc",
   "metadata": {},
   "outputs": [
    {
     "name": "stdout",
     "output_type": "stream",
     "text": [
      "Raiz quadrada de 10 é 3.1622776601683795\n"
     ]
    }
   ],
   "source": [
    "print(\"Raiz quadrada de\", numero, \"é\", raiz_quadrada)"
   ]
  }
 ],
 "metadata": {
  "kernelspec": {
   "display_name": "base",
   "language": "python",
   "name": "python3"
  },
  "language_info": {
   "codemirror_mode": {
    "name": "ipython",
    "version": 3
   },
   "file_extension": ".py",
   "mimetype": "text/x-python",
   "name": "python",
   "nbconvert_exporter": "python",
   "pygments_lexer": "ipython3",
   "version": "3.13.5"
  }
 },
 "nbformat": 4,
 "nbformat_minor": 5
}
