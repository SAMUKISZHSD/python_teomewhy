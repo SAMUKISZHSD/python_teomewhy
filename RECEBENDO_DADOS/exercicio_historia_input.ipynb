{
 "cells": [
  {
   "cell_type": "markdown",
   "id": "3e678698",
   "metadata": {},
   "source": [
    "Crie uma historia simples, adicione essa historia em um programa. A cada paragrafo, a historia deve aguardar o usuario apertar \"enter\" para dar continuidade"
   ]
  },
  {
   "cell_type": "code",
   "execution_count": 1,
   "id": "2c857255",
   "metadata": {},
   "outputs": [],
   "source": [
    "paragrafo_um = input(\"Era uma vez, em um reino distante, um jovem aventureiro chamado Arthur. Ele sonhava em explorar terras desconhecidas e encontrar tesouros escondidos. Pressione 'Enter' para continuar...\")\n",
    "paragrafo_dois = input(\"Um dia, Arthur encontrou um mapa antigo que prometia levá-lo a uma caverna repleta de riquezas. Ele decidiu seguir o mapa, enfrentando perigos e desafios ao longo do caminho. Pressione 'Enter' para continuar...\")\n",
    "paragrafo_tres = input(\"Ao chegar à caverna, Arthur percebeu que não estava sozinho. Um dragão feroz guardava o tesouro, e Arthur precisaria de toda a sua coragem para enfrentá-lo. Pressione 'Enter' para continuar...\")\n",
    "paragrafo_quatro = input(\"Com astúcia e bravura, Arthur conseguiu derrotar o dragão e reivindicar o tesouro. Ele voltou para casa como um herói, com histórias incríveis para contar e riquezas que mudariam sua vida para sempre. Pressione 'Enter' para finalizar a história...\") "
   ]
  }
 ],
 "metadata": {
  "kernelspec": {
   "display_name": "base",
   "language": "python",
   "name": "python3"
  },
  "language_info": {
   "codemirror_mode": {
    "name": "ipython",
    "version": 3
   },
   "file_extension": ".py",
   "mimetype": "text/x-python",
   "name": "python",
   "nbconvert_exporter": "python",
   "pygments_lexer": "ipython3",
   "version": "3.13.5"
  }
 },
 "nbformat": 4,
 "nbformat_minor": 5
}
