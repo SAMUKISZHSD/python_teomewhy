{
 "cells": [
  {
   "cell_type": "markdown",
   "id": "e81da4ba",
   "metadata": {},
   "source": [
    "SOMA"
   ]
  },
  {
   "cell_type": "code",
   "execution_count": 1,
   "id": "cb011062",
   "metadata": {},
   "outputs": [
    {
     "name": "stdout",
     "output_type": "stream",
     "text": [
      "1 + 1 = 2\n"
     ]
    }
   ],
   "source": [
    "print(\"1 + 1 =\", 1 + 1)"
   ]
  },
  {
   "cell_type": "markdown",
   "id": "4fb9cc0e",
   "metadata": {},
   "source": [
    "SUBTRAÇÃO"
   ]
  },
  {
   "cell_type": "code",
   "execution_count": 2,
   "id": "695961d0",
   "metadata": {},
   "outputs": [
    {
     "name": "stdout",
     "output_type": "stream",
     "text": [
      "10 -5 = 5\n"
     ]
    }
   ],
   "source": [
    "print(\"10 -5 =\", 10 - 5)"
   ]
  },
  {
   "cell_type": "markdown",
   "id": "c06fb40f",
   "metadata": {},
   "source": [
    "MUTIPLICAÇÃO"
   ]
  },
  {
   "cell_type": "code",
   "execution_count": 1,
   "id": "269d49e9",
   "metadata": {},
   "outputs": [
    {
     "name": "stdout",
     "output_type": "stream",
     "text": [
      "10 x 5 = 50\n"
     ]
    }
   ],
   "source": [
    "print(\"10 x 5 =\", 10 * 5)"
   ]
  },
  {
   "cell_type": "markdown",
   "id": "2ba21a2a",
   "metadata": {},
   "source": [
    "DIVISÃO COM INTEIRA A PARTE"
   ]
  },
  {
   "cell_type": "code",
   "execution_count": 3,
   "id": "cb851a26",
   "metadata": {},
   "outputs": [
    {
     "name": "stdout",
     "output_type": "stream",
     "text": [
      "10 / 3 = 3.3333333333333335\n"
     ]
    }
   ],
   "source": [
    "print(\"10 / 3 =\", 10 / 3)"
   ]
  },
  {
   "cell_type": "markdown",
   "id": "59692bfd",
   "metadata": {},
   "source": [
    "aqui aconteceu uma dizima periodica"
   ]
  },
  {
   "cell_type": "code",
   "execution_count": 4,
   "id": "b3a7159d",
   "metadata": {},
   "outputs": [
    {
     "name": "stdout",
     "output_type": "stream",
     "text": [
      "10 // 5 = 3\n"
     ]
    }
   ],
   "source": [
    "print(\"10 // 5 =\", 10 // 3)"
   ]
  },
  {
   "cell_type": "markdown",
   "id": "ef55fb08",
   "metadata": {},
   "source": [
    "RESTO DA DIVISÃO"
   ]
  },
  {
   "cell_type": "code",
   "execution_count": 5,
   "id": "20c7214b",
   "metadata": {},
   "outputs": [
    {
     "name": "stdout",
     "output_type": "stream",
     "text": [
      " 10 / 4 = 2.5\n"
     ]
    }
   ],
   "source": [
    "print(\" 10 / 4 =\", 10 / 4)"
   ]
  },
  {
   "cell_type": "code",
   "execution_count": 6,
   "id": "adc3204a",
   "metadata": {},
   "outputs": [
    {
     "name": "stdout",
     "output_type": "stream",
     "text": [
      "10 % 4 = 2\n"
     ]
    }
   ],
   "source": [
    "print(\"10 % 4 =\", 10 % 4)"
   ]
  },
  {
   "cell_type": "markdown",
   "id": "201677cf",
   "metadata": {},
   "source": [
    "POTENCIA"
   ]
  },
  {
   "cell_type": "code",
   "execution_count": 7,
   "id": "2316a555",
   "metadata": {},
   "outputs": [
    {
     "name": "stdout",
     "output_type": "stream",
     "text": [
      "3 ** 2 = 9\n"
     ]
    }
   ],
   "source": [
    "print(\"3 ** 2 =\", 3 ** 2)"
   ]
  },
  {
   "cell_type": "code",
   "execution_count": 8,
   "id": "2e04f8f2",
   "metadata": {},
   "outputs": [
    {
     "name": "stdout",
     "output_type": "stream",
     "text": [
      "3 ** 4 = 81\n"
     ]
    }
   ],
   "source": [
    "print(\"3 ** 4 =\", 3 ** 4)"
   ]
  }
 ],
 "metadata": {
  "kernelspec": {
   "display_name": "base",
   "language": "python",
   "name": "python3"
  },
  "language_info": {
   "codemirror_mode": {
    "name": "ipython",
    "version": 3
   },
   "file_extension": ".py",
   "mimetype": "text/x-python",
   "name": "python",
   "nbconvert_exporter": "python",
   "pygments_lexer": "ipython3",
   "version": "3.13.5"
  }
 },
 "nbformat": 4,
 "nbformat_minor": 5
}
