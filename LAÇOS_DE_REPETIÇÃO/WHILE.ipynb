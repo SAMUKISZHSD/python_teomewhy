{
 "cells": [
  {
   "cell_type": "markdown",
   "id": "2c6c977e",
   "metadata": {},
   "source": [
    "`while` em Python\n",
    "\n",
    "* O `while` **repete um bloco de código enquanto a condição for verdadeira**.\n",
    "\n",
    "Sintaxe:\n",
    "\n",
    "```python\n",
    "while condição:\n",
    "    # código que será repetido\n",
    "```\n",
    "\n",
    "Atenção:\n",
    "\n",
    "* A condição é verificada **antes** de cada repetição.\n",
    "* Cuidado para não criar **loops infinitos** (a condição nunca mudar para falsa).\n",
    "\n",
    "Exemplo:\n",
    "\n",
    "```python\n",
    "contador = 1\n",
    "\n",
    "while contador <= 5:\n",
    "    print(contador)\n",
    "    contador += 1\n",
    "```\n",
    "\n",
    "> Esse código imprime de 1 a 5.\n"
   ]
  },
  {
   "cell_type": "markdown",
   "id": "474a2575",
   "metadata": {},
   "source": [
    "TABUADA DO 2, DE 1 ATÉ 100"
   ]
  },
  {
   "cell_type": "code",
   "execution_count": 1,
   "id": "0602e5a3",
   "metadata": {},
   "outputs": [],
   "source": [
    "numero = 2"
   ]
  },
  {
   "cell_type": "code",
   "execution_count": 2,
   "id": "8fe11971",
   "metadata": {},
   "outputs": [
    {
     "name": "stdout",
     "output_type": "stream",
     "text": [
      "2 x 2 = 4\n",
      "3 x 2 = 6\n",
      "4 x 2 = 8\n",
      "5 x 2 = 10\n",
      "6 x 2 = 12\n",
      "7 x 2 = 14\n",
      "8 x 2 = 16\n",
      "9 x 2 = 18\n",
      "10 x 2 = 20\n",
      "11 x 2 = 22\n",
      "12 x 2 = 24\n",
      "13 x 2 = 26\n",
      "14 x 2 = 28\n",
      "15 x 2 = 30\n",
      "16 x 2 = 32\n",
      "17 x 2 = 34\n",
      "18 x 2 = 36\n",
      "19 x 2 = 38\n",
      "20 x 2 = 40\n",
      "21 x 2 = 42\n",
      "22 x 2 = 44\n",
      "23 x 2 = 46\n",
      "24 x 2 = 48\n",
      "25 x 2 = 50\n",
      "26 x 2 = 52\n",
      "27 x 2 = 54\n",
      "28 x 2 = 56\n",
      "29 x 2 = 58\n",
      "30 x 2 = 60\n",
      "31 x 2 = 62\n",
      "32 x 2 = 64\n",
      "33 x 2 = 66\n",
      "34 x 2 = 68\n",
      "35 x 2 = 70\n",
      "36 x 2 = 72\n",
      "37 x 2 = 74\n",
      "38 x 2 = 76\n",
      "39 x 2 = 78\n",
      "40 x 2 = 80\n",
      "41 x 2 = 82\n",
      "42 x 2 = 84\n",
      "43 x 2 = 86\n",
      "44 x 2 = 88\n",
      "45 x 2 = 90\n",
      "46 x 2 = 92\n",
      "47 x 2 = 94\n",
      "48 x 2 = 96\n",
      "49 x 2 = 98\n",
      "50 x 2 = 100\n",
      "51 x 2 = 102\n",
      "52 x 2 = 104\n",
      "53 x 2 = 106\n",
      "54 x 2 = 108\n",
      "55 x 2 = 110\n",
      "56 x 2 = 112\n",
      "57 x 2 = 114\n",
      "58 x 2 = 116\n",
      "59 x 2 = 118\n",
      "60 x 2 = 120\n",
      "61 x 2 = 122\n",
      "62 x 2 = 124\n",
      "63 x 2 = 126\n",
      "64 x 2 = 128\n",
      "65 x 2 = 130\n",
      "66 x 2 = 132\n",
      "67 x 2 = 134\n",
      "68 x 2 = 136\n",
      "69 x 2 = 138\n",
      "70 x 2 = 140\n",
      "71 x 2 = 142\n",
      "72 x 2 = 144\n",
      "73 x 2 = 146\n",
      "74 x 2 = 148\n",
      "75 x 2 = 150\n",
      "76 x 2 = 152\n",
      "77 x 2 = 154\n",
      "78 x 2 = 156\n",
      "79 x 2 = 158\n",
      "80 x 2 = 160\n",
      "81 x 2 = 162\n",
      "82 x 2 = 164\n",
      "83 x 2 = 166\n",
      "84 x 2 = 168\n",
      "85 x 2 = 170\n",
      "86 x 2 = 172\n",
      "87 x 2 = 174\n",
      "88 x 2 = 176\n",
      "89 x 2 = 178\n",
      "90 x 2 = 180\n",
      "91 x 2 = 182\n",
      "92 x 2 = 184\n",
      "93 x 2 = 186\n",
      "94 x 2 = 188\n",
      "95 x 2 = 190\n",
      "96 x 2 = 192\n",
      "97 x 2 = 194\n",
      "98 x 2 = 196\n",
      "99 x 2 = 198\n",
      "100 x 2 = 200\n"
     ]
    }
   ],
   "source": [
    "while numero <= 100:\n",
    "    print(f\"{numero} x 2 = {numero * 2}\")\n",
    "    numero += 1"
   ]
  },
  {
   "cell_type": "code",
   "execution_count": null,
   "id": "fcdcf7cd",
   "metadata": {},
   "outputs": [
    {
     "name": "stdout",
     "output_type": "stream",
     "text": [
      "1\n",
      "2\n",
      "3\n"
     ]
    }
   ],
   "source": [
    "contador = 1\n",
    "\n",
    "while True:\n",
    "    print(contador)\n",
    "    if contador == 3:\n",
    "        break # Interrompe o loop quando contador for igual a 3\n",
    "    contador += 1 # Incrementa o contador a cada iteração"
   ]
  },
  {
   "cell_type": "code",
   "execution_count": null,
   "id": "75c11170",
   "metadata": {},
   "outputs": [
    {
     "name": "stdout",
     "output_type": "stream",
     "text": [
      "1\n",
      "2\n",
      "4\n",
      "5\n",
      "Fim do loop\n"
     ]
    }
   ],
   "source": [
    "contador = 0\n",
    "\n",
    "while contador < 5:\n",
    "    contador += 1\n",
    "    if contador == 3:\n",
    "        continue # Pula a iteração quando contador for igual a 3\n",
    "    print(contador)\n",
    "print(\"Fim do loop\")"
   ]
  }
 ],
 "metadata": {
  "kernelspec": {
   "display_name": "base",
   "language": "python",
   "name": "python3"
  },
  "language_info": {
   "codemirror_mode": {
    "name": "ipython",
    "version": 3
   },
   "file_extension": ".py",
   "mimetype": "text/x-python",
   "name": "python",
   "nbconvert_exporter": "python",
   "pygments_lexer": "ipython3",
   "version": "3.13.5"
  }
 },
 "nbformat": 4,
 "nbformat_minor": 5
}
