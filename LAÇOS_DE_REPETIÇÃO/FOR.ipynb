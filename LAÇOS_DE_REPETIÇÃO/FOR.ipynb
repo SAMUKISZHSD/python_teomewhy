{
 "cells": [
  {
   "cell_type": "markdown",
   "id": "f2a1ef56",
   "metadata": {},
   "source": [
    "`for` em Python\n",
    "\n",
    "O `for` é usado para **percorrer** (iterar) itens de uma sequência, como listas, strings ou ranges.\n",
    "\n",
    "Sintaxe:\n",
    "\n",
    "```python\n",
    "for variável in sequência:\n",
    "    # código a ser executado\n",
    "```\n",
    "\n",
    "Exemplo com `range()`:\n",
    "\n",
    "```python\n",
    "for i in range(1, 4):\n",
    "    print(i)\n",
    "```\n",
    "\n",
    "> Saída:\n",
    "\n",
    "```\n",
    "1  \n",
    "2  \n",
    "3\n",
    "```\n",
    "\n",
    "Exemplo com lista:\n",
    "\n",
    "```python\n",
    "frutas = [\"maçã\", \"banana\", \"uva\"]\n",
    "\n",
    "for fruta in frutas:\n",
    "    print(fruta)\n",
    "```\n",
    "\n",
    "> Saída:\n",
    "\n",
    "```\n",
    "maçã  \n",
    "banana  \n",
    "uva\n",
    "```"
   ]
  },
  {
   "cell_type": "code",
   "execution_count": 1,
   "id": "cba3cb56",
   "metadata": {},
   "outputs": [],
   "source": [
    "nome = \"Samuel\""
   ]
  },
  {
   "cell_type": "code",
   "execution_count": 2,
   "id": "10a580da",
   "metadata": {},
   "outputs": [
    {
     "name": "stdout",
     "output_type": "stream",
     "text": [
      "S\n",
      "a\n",
      "m\n",
      "u\n",
      "e\n",
      "l\n"
     ]
    }
   ],
   "source": [
    "for letra in nome:\n",
    "    print(letra)"
   ]
  },
  {
   "cell_type": "code",
   "execution_count": 3,
   "id": "9dd72f71",
   "metadata": {},
   "outputs": [],
   "source": [
    "numero = 2\n",
    "max_num = 100"
   ]
  },
  {
   "cell_type": "code",
   "execution_count": 4,
   "id": "b4708c5f",
   "metadata": {},
   "outputs": [
    {
     "name": "stdout",
     "output_type": "stream",
     "text": [
      "2\n",
      "4\n",
      "6\n",
      "8\n",
      "10\n",
      "12\n",
      "14\n",
      "16\n",
      "18\n",
      "20\n",
      "22\n",
      "24\n",
      "26\n",
      "28\n",
      "30\n",
      "32\n",
      "34\n",
      "36\n",
      "38\n",
      "40\n",
      "42\n",
      "44\n",
      "46\n",
      "48\n",
      "50\n",
      "52\n",
      "54\n",
      "56\n",
      "58\n",
      "60\n",
      "62\n",
      "64\n",
      "66\n",
      "68\n",
      "70\n",
      "72\n",
      "74\n",
      "76\n",
      "78\n",
      "80\n",
      "82\n",
      "84\n",
      "86\n",
      "88\n",
      "90\n",
      "92\n",
      "94\n",
      "96\n",
      "98\n",
      "100\n"
     ]
    }
   ],
   "source": [
    "for i in range(numero, max_num + 1):\n",
    "    if i % 2 == 0:\n",
    "        print(i)"
   ]
  },
  {
   "cell_type": "code",
   "execution_count": 5,
   "id": "e01de2a1",
   "metadata": {},
   "outputs": [
    {
     "name": "stdout",
     "output_type": "stream",
     "text": [
      "Número: 1\n",
      "Número: 2\n",
      "Número: 3\n",
      "Número: 4\n",
      "Número: 5\n"
     ]
    }
   ],
   "source": [
    "for i in range(1, 6):\n",
    "    print(\"Número:\", i)"
   ]
  },
  {
   "cell_type": "code",
   "execution_count": 6,
   "id": "39245ed0",
   "metadata": {},
   "outputs": [
    {
     "name": "stdout",
     "output_type": "stream",
     "text": [
      "Soma total: 45\n"
     ]
    }
   ],
   "source": [
    "matriz = [\n",
    "    [1, 2, 3],\n",
    "    [4, 5, 6],\n",
    "    [7, 8, 9]\n",
    "]\n",
    "\n",
    "soma = 0\n",
    "\n",
    "for i in range(len(matriz)):            # percorre as linhas\n",
    "    for j in range(len(matriz[0])):     # percorre as colunas\n",
    "        soma += matriz[i][j]\n",
    "\n",
    "print(\"Soma total:\", soma)\n"
   ]
  },
  {
   "cell_type": "markdown",
   "id": "affef0c7",
   "metadata": {},
   "source": [
    "Explicação:\n",
    "\n",
    "range(len(matriz)) dá os índices das linhas.\n",
    "\n",
    "range(len(matriz[0])) dá os índices das colunas (assumindo que todas as linhas têm o mesmo tamanho).\n",
    "\n",
    "matriz[i][j] acessa o elemento usando os dois índices.\n",
    "\n"
   ]
  }
 ],
 "metadata": {
  "kernelspec": {
   "display_name": "base",
   "language": "python",
   "name": "python3"
  },
  "language_info": {
   "codemirror_mode": {
    "name": "ipython",
    "version": 3
   },
   "file_extension": ".py",
   "mimetype": "text/x-python",
   "name": "python",
   "nbconvert_exporter": "python",
   "pygments_lexer": "ipython3",
   "version": "3.13.5"
  }
 },
 "nbformat": 4,
 "nbformat_minor": 5
}
