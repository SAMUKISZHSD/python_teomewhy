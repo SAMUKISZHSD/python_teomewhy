{
 "cells": [
  {
   "cell_type": "code",
   "execution_count": 1,
   "id": "c87d5bb9",
   "metadata": {},
   "outputs": [],
   "source": [
    "# Criando uma lista vazia\n",
    "nomes = []"
   ]
  },
  {
   "cell_type": "code",
   "execution_count": 2,
   "id": "33fd950f",
   "metadata": {},
   "outputs": [
    {
     "name": "stdout",
     "output_type": "stream",
     "text": [
      "[]\n"
     ]
    }
   ],
   "source": [
    "print(nomes)"
   ]
  },
  {
   "cell_type": "code",
   "execution_count": 3,
   "id": "22697ff1",
   "metadata": {},
   "outputs": [],
   "source": [
    "# Adicionando nomes à lista\n",
    "nomes.append(\"Ana\")\n",
    "nomes.append(\"Bruno\")\n",
    "nomes.append(\"Carlos\")\n",
    "nomes.append(\"Beatriz\")\n",
    "nomes.append(\"Amanda\")"
   ]
  },
  {
   "cell_type": "code",
   "execution_count": 4,
   "id": "ffd4aa16",
   "metadata": {},
   "outputs": [
    {
     "name": "stdout",
     "output_type": "stream",
     "text": [
      "['Ana', 'Bruno', 'Carlos', 'Beatriz', 'Amanda']\n"
     ]
    }
   ],
   "source": [
    "print(nomes)"
   ]
  },
  {
   "cell_type": "code",
   "execution_count": 5,
   "id": "c5f426aa",
   "metadata": {},
   "outputs": [
    {
     "name": "stdout",
     "output_type": "stream",
     "text": [
      "Todos os nomes:\n",
      "- Ana\n",
      "- Bruno\n",
      "- Carlos\n",
      "- Beatriz\n",
      "- Amanda\n"
     ]
    }
   ],
   "source": [
    "# Mostrando todos os nomes cadastrados\n",
    "print(\"Todos os nomes:\")\n",
    "for nome in nomes:\n",
    "    print(\"-\", nome)"
   ]
  },
  {
   "cell_type": "code",
   "execution_count": 6,
   "id": "0516e815",
   "metadata": {},
   "outputs": [
    {
     "name": "stdout",
     "output_type": "stream",
     "text": [
      "\n",
      "Nomes que começam com 'A':\n",
      "- Ana\n",
      "- Amanda\n"
     ]
    }
   ],
   "source": [
    "# Filtrando nomes que começam com \"A\"\n",
    "print(\"\\nNomes que começam com 'A':\")\n",
    "for nome in nomes:\n",
    "    if nome.startswith(\"A\"):\n",
    "        print(\"-\", nome)"
   ]
  },
  {
   "cell_type": "code",
   "execution_count": 7,
   "id": "6cd2394e",
   "metadata": {},
   "outputs": [],
   "source": [
    "# Removendo um nome\n",
    "nomes.remove(\"Carlos\")"
   ]
  },
  {
   "cell_type": "code",
   "execution_count": 8,
   "id": "66d17ecc",
   "metadata": {},
   "outputs": [
    {
     "name": "stdout",
     "output_type": "stream",
     "text": [
      "\n",
      "Lista após remover 'Carlos':\n",
      "['Ana', 'Bruno', 'Beatriz', 'Amanda']\n"
     ]
    }
   ],
   "source": [
    "# Mostrando a lista atualizada\n",
    "print(\"\\nLista após remover 'Carlos':\")\n",
    "print(nomes)"
   ]
  }
 ],
 "metadata": {
  "kernelspec": {
   "display_name": "base",
   "language": "python",
   "name": "python3"
  },
  "language_info": {
   "codemirror_mode": {
    "name": "ipython",
    "version": 3
   },
   "file_extension": ".py",
   "mimetype": "text/x-python",
   "name": "python",
   "nbconvert_exporter": "python",
   "pygments_lexer": "ipython3",
   "version": "3.13.5"
  }
 },
 "nbformat": 4,
 "nbformat_minor": 5
}
