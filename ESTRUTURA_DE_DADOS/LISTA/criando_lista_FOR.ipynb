{
 "cells": [
  {
   "cell_type": "markdown",
   "id": "1ce703ce",
   "metadata": {},
   "source": [
    "Usando `for` para criar uma lista:\n",
    "\n",
    "Você pode usar o `for` de duas formas principais para criar listas:\n",
    "\n",
    "1. Forma tradicional (com `.append()`):\n",
    "\n",
    "```python\n",
    "numeros = []\n",
    "for i in range(5):\n",
    "    numeros.append(i)\n",
    "print(numeros)  # Saída: [0, 1, 2, 3, 4]\n",
    "```\n",
    "\n",
    "> Aqui, o `for` percorre o `range(5)` e adiciona os valores um por um com `append()`.\n",
    "\n",
    "\n",
    " 2. Compreensão de lista (forma compacta):\n",
    "\n",
    "```python\n",
    "numeros = [i for i in range(5)]\n",
    "print(numeros)  # Saída: [0, 1, 2, 3, 4]\n",
    "```\n",
    "\n",
    "> Essa é a forma mais **enxuta e pythonica** de criar listas a partir de um `for`.\n",
    "\n",
    "\n",
    "Pode incluir condições:\n",
    "\n",
    "```python\n",
    "pares = [i for i in range(10) if i % 2 == 0]\n",
    "print(pares)  # Saída: [0, 2, 4, 6, 8]\n",
    "```\n",
    "\n",
    "> Aqui o `for` só adiciona o número se ele for **par** (`i % 2 == 0`).\n",
    "\n",
    "Exemplos rápidos:\n",
    "\n",
    "* Quadrados de 1 a 5:\n",
    "\n",
    "  ```python\n",
    "  quadrados = [i**2 for i in range(1, 6)]\n",
    "  # [1, 4, 9, 16, 25]\n",
    "  ```\n",
    "\n",
    "* Letras maiúsculas de uma palavra:\n",
    "\n",
    "  ```python\n",
    "  palavra = \"python\"\n",
    "  letras = [letra.upper() for letra in palavra]\n",
    "  # ['P', 'Y', 'T', 'H', 'O', 'N']\n",
    "  ```"
   ]
  },
  {
   "cell_type": "code",
   "execution_count": 6,
   "id": "02421e5b",
   "metadata": {},
   "outputs": [],
   "source": [
    "x  = []\n",
    "for i in range(1, 10):\n",
    "    x.append(i)  # Adiciona o quadrado de i à lista x"
   ]
  },
  {
   "cell_type": "code",
   "execution_count": 5,
   "id": "ab97369c",
   "metadata": {},
   "outputs": [
    {
     "name": "stdout",
     "output_type": "stream",
     "text": [
      "[1, 2, 3, 4, 5, 6, 7, 8, 9]\n"
     ]
    }
   ],
   "source": [
    "print(x)"
   ]
  },
  {
   "cell_type": "code",
   "execution_count": 10,
   "id": "e06aac4e",
   "metadata": {},
   "outputs": [],
   "source": [
    "def eh_par(n):\n",
    "    return n % 2 == 0\n",
    "\n",
    "z = [eh_par(i) for i in range(1, 10)]"
   ]
  },
  {
   "cell_type": "code",
   "execution_count": 11,
   "id": "3344e3ea",
   "metadata": {},
   "outputs": [
    {
     "name": "stdout",
     "output_type": "stream",
     "text": [
      "[False, True, False, True, False, True, False, True, False]\n"
     ]
    }
   ],
   "source": [
    "print(z)"
   ]
  },
  {
   "cell_type": "markdown",
   "id": "03de3bad",
   "metadata": {},
   "source": [
    "Imagine que você tem uma lista de preços de produtos e quer aplicar 10% de desconto em cada um:"
   ]
  },
  {
   "cell_type": "code",
   "execution_count": 12,
   "id": "ffc9d559",
   "metadata": {},
   "outputs": [],
   "source": [
    "# Lista de preços originais\n",
    "precos = [100, 250, 80, 40, 150]"
   ]
  },
  {
   "cell_type": "code",
   "execution_count": 13,
   "id": "062babbe",
   "metadata": {},
   "outputs": [],
   "source": [
    "# Aplicando 10% de desconto usando for e append\n",
    "precos_com_desconto = []\n",
    "for preco in precos:\n",
    "    novo_preco = preco * 0.9  # 10% de desconto\n",
    "    precos_com_desconto.append(round(novo_preco, 2))"
   ]
  },
  {
   "cell_type": "code",
   "execution_count": 14,
   "id": "054f57ae",
   "metadata": {},
   "outputs": [
    {
     "name": "stdout",
     "output_type": "stream",
     "text": [
      "[90.0, 225.0, 72.0, 36.0, 135.0]\n"
     ]
    }
   ],
   "source": [
    "print(precos_com_desconto)"
   ]
  }
 ],
 "metadata": {
  "kernelspec": {
   "display_name": "base",
   "language": "python",
   "name": "python3"
  },
  "language_info": {
   "codemirror_mode": {
    "name": "ipython",
    "version": 3
   },
   "file_extension": ".py",
   "mimetype": "text/x-python",
   "name": "python",
   "nbconvert_exporter": "python",
   "pygments_lexer": "ipython3",
   "version": "3.13.5"
  }
 },
 "nbformat": 4,
 "nbformat_minor": 5
}
