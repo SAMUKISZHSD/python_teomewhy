{
 "cells": [
  {
   "cell_type": "code",
   "execution_count": 6,
   "id": "6c44ce88",
   "metadata": {},
   "outputs": [],
   "source": [
    "nome_arquivo = \"historia_02.txt\""
   ]
  },
  {
   "cell_type": "code",
   "execution_count": 7,
   "id": "d84ff604",
   "metadata": {},
   "outputs": [],
   "source": [
    "with open(nome_arquivo, mode='w') as open_file:\n",
    "    open_file.write(\"Era uma vez um programador que amava Python.\\n\")\n",
    "    open_file.write(\"Ele passou horas escrevendo códigos e criando projetos incríveis.\\n\")\n",
    "    open_file.write(\"E assim, ele viveu feliz para sempre.\")"
   ]
  },
  {
   "cell_type": "code",
   "execution_count": 8,
   "id": "f4966914",
   "metadata": {},
   "outputs": [],
   "source": [
    "texto = \"Era uma vez um programador que amava Python\""
   ]
  },
  {
   "cell_type": "code",
   "execution_count": 9,
   "id": "45dc1c71",
   "metadata": {},
   "outputs": [],
   "source": [
    "with open(nome_arquivo, mode='w') as open_file:\n",
    "    open_file.write(texto)"
   ]
  }
 ],
 "metadata": {
  "kernelspec": {
   "display_name": "base",
   "language": "python",
   "name": "python3"
  },
  "language_info": {
   "codemirror_mode": {
    "name": "ipython",
    "version": 3
   },
   "file_extension": ".py",
   "mimetype": "text/x-python",
   "name": "python",
   "nbconvert_exporter": "python",
   "pygments_lexer": "ipython3",
   "version": "3.13.5"
  }
 },
 "nbformat": 4,
 "nbformat_minor": 5
}
