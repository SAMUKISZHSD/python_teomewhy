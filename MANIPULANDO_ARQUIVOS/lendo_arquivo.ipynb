{
 "cells": [
  {
   "cell_type": "code",
   "execution_count": 18,
   "id": "6328a302",
   "metadata": {},
   "outputs": [],
   "source": [
    "nome_arquivo = \"historia.txt\""
   ]
  },
  {
   "cell_type": "code",
   "execution_count": 19,
   "id": "fcf93441",
   "metadata": {},
   "outputs": [],
   "source": [
    "open_file = open(nome_arquivo)"
   ]
  },
  {
   "cell_type": "code",
   "execution_count": 20,
   "id": "c0560399",
   "metadata": {},
   "outputs": [
    {
     "name": "stdout",
     "output_type": "stream",
     "text": [
      "Samuel era um garoto curioso que morava em uma cidade tranquila. Em um sábado de manhã, encontrou uma bicicleta vermelha antiga no quintal da avó. Curioso, limpou, encheu os pneus e resolveu dar uma volta.\n",
      "\n",
      "Enquanto pedalava pelo bairro, sentiu o vento no rosto e lembrou-se de quando era menor e aprendia a andar. Passou pela padaria, cumprimentou o Sr. Joaquim e continuou até o parque.\n",
      "\n",
      "Lá, encontrou amigos jogando bola e passou o resto da tarde brincando e dando voltas com sua nova velha bicicleta. Voltou para casa ao entardecer, cansado, mas feliz.\n",
      "\n",
      "A bicicleta vermelha virou sua nova companheira de aventuras.\n"
     ]
    }
   ],
   "source": [
    "print(open_file.read())"
   ]
  },
  {
   "cell_type": "code",
   "execution_count": 21,
   "id": "29f938a6",
   "metadata": {},
   "outputs": [],
   "source": [
    "open_file.close()\n",
    "#print(open_file.close())"
   ]
  },
  {
   "cell_type": "code",
   "execution_count": 22,
   "id": "594606e8",
   "metadata": {},
   "outputs": [
    {
     "name": "stdout",
     "output_type": "stream",
     "text": [
      "Samuel era um garoto curioso que morava em uma cidade tranquila. Em um sábado de manhã, encontrou uma bicicleta vermelha antiga no quintal da avó. Curioso, limpou, encheu os pneus e resolveu dar uma volta.\n",
      "\n",
      "Enquanto pedalava pelo bairro, sentiu o vento no rosto e lembrou-se de quando era menor e aprendia a andar. Passou pela padaria, cumprimentou o Sr. Joaquim e continuou até o parque.\n",
      "\n",
      "Lá, encontrou amigos jogando bola e passou o resto da tarde brincando e dando voltas com sua nova velha bicicleta. Voltou para casa ao entardecer, cansado, mas feliz.\n",
      "\n",
      "A bicicleta vermelha virou sua nova companheira de aventuras.\n"
     ]
    }
   ],
   "source": [
    "with open(nome_arquivo) as open_file:\n",
    "    conteudo = open_file.read()\n",
    "    print(conteudo)"
   ]
  }
 ],
 "metadata": {
  "kernelspec": {
   "display_name": "base",
   "language": "python",
   "name": "python3"
  },
  "language_info": {
   "codemirror_mode": {
    "name": "ipython",
    "version": 3
   },
   "file_extension": ".py",
   "mimetype": "text/x-python",
   "name": "python",
   "nbconvert_exporter": "python",
   "pygments_lexer": "ipython3",
   "version": "3.13.5"
  }
 },
 "nbformat": 4,
 "nbformat_minor": 5
}
