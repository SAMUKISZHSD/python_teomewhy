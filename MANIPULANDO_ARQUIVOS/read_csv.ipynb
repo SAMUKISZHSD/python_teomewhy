{
 "cells": [
  {
   "cell_type": "code",
   "execution_count": 13,
   "id": "511e9d9b",
   "metadata": {},
   "outputs": [],
   "source": [
    "arquivo = \"data.csv\""
   ]
  },
  {
   "cell_type": "code",
   "execution_count": 14,
   "id": "7fcbcdae",
   "metadata": {},
   "outputs": [
    {
     "name": "stdout",
     "output_type": "stream",
     "text": [
      "Conteúdo do arquivo em forma de lista: ['personagem,ação,local,tempo\\n', 'Samuel,acordou,em casa,de manhã\\n', 'Samuel,comeu pão,na cozinha,de manhã\\n', 'Samuel,saiu,para escola,de manhã\\n', 'Samuel,estudou,na sala de aula,de tarde\\n', 'Samuel,jogou futebol,no pátio,de tarde\\n', 'Samuel,voltou,para casa,à noite\\n', 'Samuel,assistiu TV,na sala,à noite\\n', 'Samuel,dormiu,no quarto,de noite']\n"
     ]
    }
   ],
   "source": [
    "with open(arquivo) as open_file:\n",
    "    lines = open_file.readlines()\n",
    "\n",
    "    print(f\"Conteúdo do arquivo em forma de lista: {lines}\")"
   ]
  },
  {
   "cell_type": "markdown",
   "id": "26882814",
   "metadata": {},
   "source": [
    "Cada linha do CSV virou ficou em forma de lista, onde cada linha é um elemento da lista"
   ]
  },
  {
   "cell_type": "code",
   "execution_count": 15,
   "id": "5839bcd4",
   "metadata": {},
   "outputs": [
    {
     "name": "stdout",
     "output_type": "stream",
     "text": [
      "personagem,ação,local,tempo\n",
      "\n",
      "Samuel,acordou,em casa,de manhã\n",
      "\n",
      "Samuel,comeu pão,na cozinha,de manhã\n",
      "\n",
      "Samuel,saiu,para escola,de manhã\n",
      "\n",
      "Samuel,estudou,na sala de aula,de tarde\n",
      "\n",
      "Samuel,jogou futebol,no pátio,de tarde\n",
      "\n",
      "Samuel,voltou,para casa,à noite\n",
      "\n",
      "Samuel,assistiu TV,na sala,à noite\n",
      "\n",
      "Samuel,dormiu,no quarto,de noite\n"
     ]
    }
   ],
   "source": [
    "for linha in lines:\n",
    "    print(linha)"
   ]
  },
  {
   "cell_type": "code",
   "execution_count": 16,
   "id": "1dd8af5e",
   "metadata": {},
   "outputs": [
    {
     "name": "stdout",
     "output_type": "stream",
     "text": [
      "{}\n"
     ]
    }
   ],
   "source": [
    "dados = dict() # Dicionário vazio para armazenar os dados\n",
    "print(dados)"
   ]
  },
  {
   "cell_type": "code",
   "execution_count": 17,
   "id": "ba6ea575",
   "metadata": {},
   "outputs": [
    {
     "name": "stdout",
     "output_type": "stream",
     "text": [
      "Chaves do CSV: ['personagem', 'ação', 'local', 'tempo']\n"
     ]
    }
   ],
   "source": [
    "chaves = lines[0].strip(\"\\n\").split(\",\") # Obtendo as chaves do CSV\n",
    "print(f\"Chaves do CSV: {chaves}\")"
   ]
  },
  {
   "cell_type": "code",
   "execution_count": 18,
   "id": "ab50db8d",
   "metadata": {},
   "outputs": [
    {
     "name": "stdout",
     "output_type": "stream",
     "text": [
      "Chave: personagem - Lista vazia criada.\n",
      "Chave: ação - Lista vazia criada.\n",
      "Chave: local - Lista vazia criada.\n",
      "Chave: tempo - Lista vazia criada.\n"
     ]
    }
   ],
   "source": [
    "for c in chaves: # Atribuindo uma lista vazia para cada chave\n",
    "    dados[c] = []\n",
    "\n",
    "    print(f\"Chave: {c} - Lista vazia criada.\")"
   ]
  },
  {
   "cell_type": "code",
   "execution_count": 19,
   "id": "d9800957",
   "metadata": {},
   "outputs": [],
   "source": [
    "for l in lines[1:]: # Iterando sobre as linhas do CSV, ignorando a primeira linha (cabeçalho)\n",
    "    valores = l.strip(\"\\n\").split(\",\") # Separando os valores da linha atual\n",
    "    for i in range(len(valores)): # Iterando sobre os índices das chaves\n",
    "        dados[chaves[i]].append(valores[i]) # Adicionando o valor à lista correspondente à chave\n"
   ]
  },
  {
   "cell_type": "code",
   "execution_count": 20,
   "id": "7d70a036",
   "metadata": {},
   "outputs": [
    {
     "name": "stdout",
     "output_type": "stream",
     "text": [
      "{'personagem': ['Samuel', 'Samuel', 'Samuel', 'Samuel', 'Samuel', 'Samuel', 'Samuel', 'Samuel'], 'ação': ['acordou', 'comeu pão', 'saiu', 'estudou', 'jogou futebol', 'voltou', 'assistiu TV', 'dormiu'], 'local': ['em casa', 'na cozinha', 'para escola', 'na sala de aula', 'no pátio', 'para casa', 'na sala', 'no quarto'], 'tempo': ['de manhã', 'de manhã', 'de manhã', 'de tarde', 'de tarde', 'à noite', 'à noite', 'de noite']}\n"
     ]
    }
   ],
   "source": [
    "print(dados)"
   ]
  }
 ],
 "metadata": {
  "kernelspec": {
   "display_name": "base",
   "language": "python",
   "name": "python3"
  },
  "language_info": {
   "codemirror_mode": {
    "name": "ipython",
    "version": 3
   },
   "file_extension": ".py",
   "mimetype": "text/x-python",
   "name": "python",
   "nbconvert_exporter": "python",
   "pygments_lexer": "ipython3",
   "version": "3.13.5"
  }
 },
 "nbformat": 4,
 "nbformat_minor": 5
}
