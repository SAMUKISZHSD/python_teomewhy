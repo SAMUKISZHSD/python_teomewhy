{
 "cells": [
  {
   "cell_type": "code",
   "execution_count": null,
   "id": "3b3e2675",
   "metadata": {},
   "outputs": [],
   "source": [
    "def media_do_samuel(notas):\n",
    "    \"\"\"Calcula a média das notas do Samuel.\"\"\"\n",
    "    calculo = sum(notas) / len(notas)\n",
    "    return round(calculo, 2)"
   ]
  },
  {
   "cell_type": "code",
   "execution_count": 2,
   "id": "c2961764",
   "metadata": {},
   "outputs": [
    {
     "data": {
      "text/plain": [
       "8.5"
      ]
     },
     "execution_count": 2,
     "metadata": {},
     "output_type": "execute_result"
    }
   ],
   "source": [
    "media_do_samuel([7, 8, 9, 10])"
   ]
  },
  {
   "cell_type": "code",
   "execution_count": null,
   "id": "94dfa791",
   "metadata": {},
   "outputs": [
    {
     "name": "stdout",
     "output_type": "stream",
     "text": [
      "[2.0, 4.0, 5.0, 6.0, 7.0, 8.0, 10.0]\n"
     ]
    }
   ],
   "source": [
    "entrada = input(\"Digite as notas separadas por espaço: \")\n",
    "notas = [float(nota) for nota in entrada.split()]\n",
    "print(notas)"
   ]
  },
  {
   "cell_type": "code",
   "execution_count": 4,
   "id": "23aa37d4",
   "metadata": {},
   "outputs": [
    {
     "data": {
      "text/plain": [
       "6.0"
      ]
     },
     "execution_count": 4,
     "metadata": {},
     "output_type": "execute_result"
    }
   ],
   "source": [
    "media_do_samuel(notas)"
   ]
  }
 ],
 "metadata": {
  "kernelspec": {
   "display_name": "base",
   "language": "python",
   "name": "python3"
  },
  "language_info": {
   "codemirror_mode": {
    "name": "ipython",
    "version": 3
   },
   "file_extension": ".py",
   "mimetype": "text/x-python",
   "name": "python",
   "nbconvert_exporter": "python",
   "pygments_lexer": "ipython3",
   "version": "3.13.5"
  }
 },
 "nbformat": 4,
 "nbformat_minor": 5
}
