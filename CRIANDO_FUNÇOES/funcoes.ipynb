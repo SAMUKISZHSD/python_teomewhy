{
 "cells": [
  {
   "cell_type": "markdown",
   "id": "4af2de76",
   "metadata": {},
   "source": [
    "### O que é uma função?\n",
    "\n",
    "Uma **função** em Python é um bloco de código reutilizável que executa uma tarefa específica. Serve para **organizar, reutilizar e dividir** seu programa em partes menores.\n",
    "\n",
    "### Como declarar uma função\n",
    "\n",
    "```python\n",
    "def nome_da_funcao(parametros):\n",
    "    # bloco de código\n",
    "    return resultado\n",
    "```\n",
    "\n",
    "### Exemplo simples\n",
    "\n",
    "```python\n",
    "def saudacao(nome):\n",
    "    return f\"Olá, {nome}!\"\n",
    "\n",
    "print(saudacao(\"José\"))  # Saída: Olá, José!\n",
    "```\n",
    "\n",
    "### Parâmetros e argumentos\n",
    "\n",
    "* **Parâmetro**: nome na definição da função.\n",
    "* **Argumento**: valor passado ao chamar a função.\n",
    "\n",
    "```python\n",
    "def soma(a, b):\n",
    "    return a + b\n",
    "\n",
    "print(soma(3, 5))  # 8\n",
    "```\n",
    "\n",
    "###  Parâmetros padrão\n",
    "\n",
    "```python\n",
    "def apresentar(nome=\"Visitante\"):\n",
    "    print(f\"Bem-vindo, {nome}!\")\n",
    "\n",
    "apresentar()          # Bem-vindo, Visitante!\n",
    "apresentar(\"Maria\")   # Bem-vindo, Maria!\n",
    "```\n",
    "\n",
    "### Funções sem retorno\n",
    "\n",
    "```python\n",
    "def mostrar_mensagem():\n",
    "    print(\"Isso é uma função!\")\n",
    "\n",
    "mostrar_mensagem()\n",
    "```\n",
    "\n",
    "### Função com múltiplos retornos\n",
    "\n",
    "```python\n",
    "def operacoes(a, b):\n",
    "    return a + b, a - b, a * b\n",
    "\n",
    "soma, sub, mult = operacoes(5, 2)\n",
    "```\n",
    "\n",
    "###  Funções com `*args` e `**kwargs`\n",
    "\n",
    "* `*args`: aceita vários argumentos posicionais.\n",
    "* `**kwargs`: aceita vários argumentos nomeados.\n",
    "\n",
    "```python\n",
    "def exemplo_args(*args):\n",
    "    print(args)\n",
    "\n",
    "def exemplo_kwargs(**kwargs):\n",
    "    print(kwargs)\n",
    "```\n",
    "\n",
    "---\n",
    "\n",
    "###  Função lambda (função anônima)\n",
    "\n",
    "```python\n",
    "quadrado = lambda x: x * x\n",
    "print(quadrado(4))  # 16\n",
    "```\n"
   ]
  },
  {
   "cell_type": "code",
   "execution_count": null,
   "id": "70b024d4",
   "metadata": {},
   "outputs": [],
   "source": [
    "# Exemplo de função que já exxiste no python\n",
    "valor = input(\"Digite um valor: \")\n",
    "print(f\"Você digitou: {valor}\")"
   ]
  },
  {
   "cell_type": "code",
   "execution_count": 3,
   "id": "e83bbe62",
   "metadata": {},
   "outputs": [],
   "source": [
    "def f(x):\n",
    "    resultado = 1 + x\n",
    "    return resultado"
   ]
  },
  {
   "cell_type": "code",
   "execution_count": 4,
   "id": "bc6bc2d0",
   "metadata": {},
   "outputs": [
    {
     "data": {
      "text/plain": [
       "11"
      ]
     },
     "execution_count": 4,
     "metadata": {},
     "output_type": "execute_result"
    }
   ],
   "source": [
    "f(10) "
   ]
  }
 ],
 "metadata": {
  "kernelspec": {
   "display_name": "base",
   "language": "python",
   "name": "python3"
  },
  "language_info": {
   "codemirror_mode": {
    "name": "ipython",
    "version": 3
   },
   "file_extension": ".py",
   "mimetype": "text/x-python",
   "name": "python",
   "nbconvert_exporter": "python",
   "pygments_lexer": "ipython3",
   "version": "3.13.5"
  }
 },
 "nbformat": 4,
 "nbformat_minor": 5
}
