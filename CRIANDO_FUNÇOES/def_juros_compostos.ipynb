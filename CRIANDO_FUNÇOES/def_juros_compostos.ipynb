{
 "cells": [
  {
   "cell_type": "code",
   "execution_count": null,
   "id": "ce5fa5e4",
   "metadata": {},
   "outputs": [],
   "source": [
    "def juros_compostos(aporte, taxa, anos):\n",
    "    calculo = aporte * (1 + taxa) ** anos\n",
    "    return round(calculo, 2) # Arredondando o resultado para 2 casas decimais"
   ]
  },
  {
   "cell_type": "code",
   "execution_count": 12,
   "id": "4797d85b",
   "metadata": {},
   "outputs": [
    {
     "data": {
      "text/plain": [
       "1630.47"
      ]
     },
     "execution_count": 12,
     "metadata": {},
     "output_type": "execute_result"
    }
   ],
   "source": [
    "juros_compostos(aporte=1000, taxa=0.13, anos=4)  # Exemplo de uso da função juros_compostos"
   ]
  }
 ],
 "metadata": {
  "kernelspec": {
   "display_name": "base",
   "language": "python",
   "name": "python3"
  },
  "language_info": {
   "codemirror_mode": {
    "name": "ipython",
    "version": 3
   },
   "file_extension": ".py",
   "mimetype": "text/x-python",
   "name": "python",
   "nbconvert_exporter": "python",
   "pygments_lexer": "ipython3",
   "version": "3.13.5"
  }
 },
 "nbformat": 4,
 "nbformat_minor": 5
}
